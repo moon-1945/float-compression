{
 "cells": [
  {
   "cell_type": "markdown",
   "id": "e7mtelRAOKqk",
   "metadata": {
    "id": "e7mtelRAOKqk"
   },
   "source": [
    "# Float loss compression by removing the least significant bits."
   ]
  },
  {
   "cell_type": "markdown",
   "id": "8FQFnGeuPJhy",
   "metadata": {
    "id": "8FQFnGeuPJhy"
   },
   "source": [
    "## Content\n",
    "\n",
    "### 1. Idea: compress numbers by removing between 8 and 16 bits.\n",
    "\n",
    "### 2. Exploration of compression impact on float distributions\n",
    "We will analyze the compression impact on the following distributions:\n",
    "\n",
    "- Uniform distribution\n",
    "- Gaussian (normal) distribution\n",
    "- Exponential distribution\n",
    "\n",
    "For each distribution we will:\n",
    "\n",
    "- Generate a relatively large sample.\n",
    "- Save the floats to a file using NumPy and our compression algorithm.\n",
    "- Read the floats back from the compressed file.\n",
    "- Compare statistical parameters of the original and recompressed floats.\n",
    "\n",
    "### 3. Visualization\n",
    "\n",
    "- Create a plot for memory usage for different levels of compression.\n",
    "- Create a plot for float distribution before and after compression.\n",
    "\n",
    "### 4. Conclusion\n"
   ]
  },
  {
   "cell_type": "markdown",
   "id": "694f8873-bd23-44a3-a434-1e1027dd8a4f",
   "metadata": {
    "id": "ImywHxv2V_uj"
   },
   "source": [
    "## 1. Idea"
   ]
  },
  {
   "cell_type": "markdown",
   "id": "AytSMhNyVSkp",
   "metadata": {
    "id": "AytSMhNyVSkp"
   },
   "source": [
    "importing libraries."
   ]
  },
  {
   "cell_type": "code",
   "execution_count": 4,
   "id": "THRcJzn1OGDB",
   "metadata": {
    "colab": {
     "base_uri": "https://localhost:8080/"
    },
    "id": "THRcJzn1OGDB",
    "outputId": "0acb8328-9504-4bd3-fa89-2844aed0994e"
   },
   "outputs": [
    {
     "name": "stdout",
     "output_type": "stream",
     "text": [
      "Requirement already satisfied: bitarray in /usr/local/lib/python3.11/dist-packages (3.1.1)\n"
     ]
    }
   ],
   "source": [
    "!pip install bitarray\n",
    "from pathlib import Path\n",
    "import numpy as np\n",
    "from bitarray import bitarray\n",
    "from bitarray.util import int2ba, ba2int\n",
    "import os\n",
    "from scipy.stats import skew, kurtosis\n",
    "import matplotlib.pyplot as plt"
   ]
  },
  {
   "cell_type": "markdown",
   "id": "VhGZZYeiVbXq",
   "metadata": {
    "id": "VhGZZYeiVbXq"
   },
   "source": [
    "Define some constants."
   ]
  },
  {
   "cell_type": "code",
   "execution_count": 5,
   "id": "a9e7280a-8287-4f5c-80e0-43f4cb09bee8",
   "metadata": {
    "id": "a9e7280a-8287-4f5c-80e0-43f4cb09bee8"
   },
   "outputs": [],
   "source": [
    "BITS_PER_BYTE = 8\n",
    "MIN_BITS_REMOVE = 8\n",
    "MAX_BITS_REMOVE = 16\n",
    "MAX_LEVEL = 100\n",
    "BITS_NUM_FOR_BIT_TO_REMOVE = 6\n",
    "BITS_FOR_CHUNK_SIZE = 32\n",
    "\n",
    "bits_float32 = np.dtype(np.float32).itemsize * 8\n",
    "mantissa_bits = np.finfo(np.float32).nmant"
   ]
  },
  {
   "cell_type": "code",
   "execution_count": 6,
   "id": "fb44f0ba-01d7-45a2-9269-4857a71391e6",
   "metadata": {
    "id": "fb44f0ba-01d7-45a2-9269-4857a71391e6"
   },
   "outputs": [],
   "source": [
    "def mse(floats: np.ndarray[np.float32], floats_compressed: np.ndarray[np.float32]):\n",
    "    return np.mean((floats - floats_compressed) ** 2)"
   ]
  },
  {
   "cell_type": "markdown",
   "id": "9c7d1043-d8c9-4f3c-928b-d18baafd8828",
   "metadata": {
    "id": "9c7d1043-d8c9-4f3c-928b-d18baafd8828"
   },
   "source": [
    "Library function loads bit array from file with trailing zeros for byte alignment. This class was created to overcome that problem.\n",
    "\n",
    "To save the bit array I added the required number of zeros to byte alignment and one byte to write that number.\n",
    "\n",
    "To read back that array we need:\n",
    "\n",
    "1.   Remove the last byte, which stores the number of trailing zeros.\n",
    "2.   Get number of trailing zeros from that byte.\n",
    "3.   Remove given number of trailing zeros."
   ]
  },
  {
   "cell_type": "code",
   "execution_count": 7,
   "id": "c50ac8e8-d040-41ea-a939-3c1485840159",
   "metadata": {
    "cellView": "form",
    "id": "c50ac8e8-d040-41ea-a939-3c1485840159"
   },
   "outputs": [],
   "source": [
    "# @title\n",
    "class BitArraySaver:\n",
    "\n",
    "    @staticmethod\n",
    "    def save_bitarray(bit_array: bitarray, file_name: str | Path):\n",
    "        n = len(bit_array)\n",
    "        trailing_zeros = (BITS_PER_BYTE - 1) - (n - 1) % BITS_PER_BYTE\n",
    "        bit_array = bit_array.copy()\n",
    "        bit_array.extend(trailing_zeros * '0')\n",
    "        bit_array.extend(int2ba(trailing_zeros, length=BITS_PER_BYTE))\n",
    "\n",
    "        with open(file_name, \"wb\") as f:\n",
    "            bit_array.tofile(f)\n",
    "\n",
    "    @staticmethod\n",
    "    def load_bitarray(file_name: str | Path):\n",
    "        bit_array = bitarray()\n",
    "        with open(file_name, \"rb\") as f:\n",
    "            bit_array.fromfile(f)\n",
    "\n",
    "        trailing_zeros = ba2int(bit_array[-BITS_PER_BYTE:])\n",
    "        del bit_array[-(BITS_PER_BYTE + trailing_zeros):]\n",
    "        return bit_array"
   ]
  },
  {
   "cell_type": "markdown",
   "id": "2d0ac14d-011b-4f11-a517-0b1bd530b781",
   "metadata": {
    "id": "2d0ac14d-011b-4f11-a517-0b1bd530b781"
   },
   "source": [
    "**Lossy compression algorithm.**\n",
    "\n",
    "We divide those floats into groups by the same sign and exponent part. Suppose we have expected MSE for our compression. We try to remove a number of least significant mantissa bits from each group separately so that MSE of error of that compression is the most closed to our expected MSE.\n",
    "\n",
    "So in the end we obtain actual MSE of our compression similar to expected. However:\n",
    "*   if expected MSE is too large we remove MIN_BITS_REMOVE bits from each number.\n",
    "*   if expected MSE is too small we remove MAX_BITS_REMOVE bits from each number.\n",
    "\n",
    "MSE is not dimensionless quantity so I decided to put level=0 compression for the smallest possible actual MSE, and level=MAX_LEVEL for the biggest possible actual MSE. I make intermittent levels by dividing the logarithmic curve from min to max actual MSE into equal parts."
   ]
  },
  {
   "cell_type": "code",
   "execution_count": 8,
   "id": "37cedef7-ccfd-49d9-b735-ae730aa10e05",
   "metadata": {
    "cellView": "form",
    "id": "37cedef7-ccfd-49d9-b735-ae730aa10e05"
   },
   "outputs": [],
   "source": [
    "# @title\n",
    "class FloatCompressionUtil:\n",
    "\n",
    "    @staticmethod\n",
    "    def __zero_last_mantissa_bits(floats: np.ndarray[np.float32], bits_to_zero: int) -> np.ndarray[np.float32]:\n",
    "        mask = np.int32(-1).view(np.uint32) << bits_to_zero\n",
    "        return (floats.view(np.uint32) & mask).astype(np.uint32).view(np.float32)\n",
    "\n",
    "    @staticmethod\n",
    "    def __float_mantissa_compression(floats: np.ndarray[np.float32], bits_to_remove: int) -> bitarray:\n",
    "        n = len(floats)\n",
    "        floats_zmb = FloatCompressionUtil.__zero_last_mantissa_bits(floats=floats, bits_to_zero=bits_to_remove)\n",
    "\n",
    "        float_bit_size = bits_float32 - bits_to_remove\n",
    "        bit_compressed_floats = bitarray(float_bit_size * n)\n",
    "        for idx, fl in enumerate(floats_zmb):\n",
    "            fl_bit_array = int2ba(int(fl.view(np.uint32) >> bits_to_remove), length=float_bit_size)\n",
    "            bit_compressed_floats[float_bit_size * idx:float_bit_size * (idx + 1)] = fl_bit_array\n",
    "\n",
    "        return bit_compressed_floats\n",
    "\n",
    "    @staticmethod\n",
    "    def __from_bitarray_to_floats(floats_bitarray: bitarray, bits_to_recover: int):\n",
    "        float_bit_size = bits_float32 - bits_to_recover\n",
    "\n",
    "        if len(floats_bitarray) % float_bit_size != 0:\n",
    "            raise ValueError(\"\")\n",
    "\n",
    "        n = len(floats_bitarray) // float_bit_size\n",
    "\n",
    "        floats = np.zeros(shape=(n,), dtype=np.float32)\n",
    "        for i in range(n):\n",
    "            float_bits = floats_bitarray[float_bit_size * i: float_bit_size * (i + 1)]\n",
    "            int_value = np.uint32(ba2int(float_bits))\n",
    "            floats[i] = np.float32(np.frombuffer((int_value << bits_to_recover).tobytes(), dtype=np.float32)[0])\n",
    "\n",
    "        return floats\n",
    "\n",
    "    @staticmethod\n",
    "    def __compress_floats_same_bit_count(floats: np.ndarray[np.float32], bits_to_remove: int) -> bitarray:\n",
    "        bit_compressed_floats = FloatCompressionUtil.__float_mantissa_compression(floats=floats, bits_to_remove=bits_to_remove)\n",
    "        bit_compressed_floats.extend(int2ba(bits_to_remove, length=BITS_NUM_FOR_BIT_TO_REMOVE))\n",
    "        return bit_compressed_floats\n",
    "\n",
    "    @staticmethod\n",
    "    def __decompress_floats_same_bit_count(bit_compressed_floats: bitarray) -> np.ndarray[np.float32]:\n",
    "        bit_compressed_floats = bit_compressed_floats.copy()\n",
    "        bit_count = ba2int(bit_compressed_floats[-BITS_NUM_FOR_BIT_TO_REMOVE:])\n",
    "        del bit_compressed_floats[-BITS_NUM_FOR_BIT_TO_REMOVE:]\n",
    "        floats = FloatCompressionUtil.__from_bitarray_to_floats(bit_compressed_floats, bits_to_recover=bit_count)\n",
    "        return floats\n",
    "\n",
    "    @staticmethod\n",
    "    def __part_floats_by_bit_count(floats: np.ndarray[np.float32], expected_mse: float) -> dict[int, np.ndarray[np.float32]]:\n",
    "        sign_exp_parts = floats.view(np.uint32) >> mantissa_bits\n",
    "        unique_sign_exp_parts, inverse_idxs = np.unique(sign_exp_parts, return_inverse=True)\n",
    "        sign_exp_to_nums = {sign_exp_part: floats[inverse_idxs == i] for i, sign_exp_part in enumerate(unique_sign_exp_parts)}\n",
    "\n",
    "        # bit_count : nums that we want to compress by removing bit_count lass mantissa bits\n",
    "        bit_count_to_nums = {}\n",
    "\n",
    "        for sign_exp_part, exp_num_list in sign_exp_to_nums.items():\n",
    "            bit_c_range = list(range(MIN_BITS_REMOVE, MAX_BITS_REMOVE + 1))\n",
    "\n",
    "            exp_num_list_comp = np.array([\n",
    "                FloatCompressionUtil.__zero_last_mantissa_bits(floats=exp_num_list, bits_to_zero=bit_c)\n",
    "                for bit_c in bit_c_range\n",
    "            ])\n",
    "\n",
    "            actual_mse = np.mean((exp_num_list - exp_num_list_comp) ** 2, axis=1)\n",
    "            mse_log_diff = np.fabs(np.log(actual_mse) - np.log(expected_mse))\n",
    "\n",
    "            bit_count_opt = bit_c_range[np.argmin(mse_log_diff)]\n",
    "\n",
    "            if bit_count_opt in bit_count_to_nums:\n",
    "                bit_count_to_nums[bit_count_opt].append(exp_num_list)\n",
    "            else:\n",
    "                bit_count_to_nums[bit_count_opt] = [exp_num_list]\n",
    "\n",
    "        for bit_count, nums in bit_count_to_nums.items():\n",
    "            bit_count_to_nums[bit_count] = np.concatenate(nums, dtype=np.float32)\n",
    "\n",
    "        return bit_count_to_nums\n",
    "\n",
    "    @staticmethod\n",
    "    def __compress_floats_with_mse(floats: np.ndarray[np.float32], expected_mse: float) -> bitarray:\n",
    "        bit_count_to_nums = FloatCompressionUtil.__part_floats_by_bit_count(floats, expected_mse=expected_mse)\n",
    "        result_bitarray = bitarray()\n",
    "\n",
    "        for bit_count, nums in bit_count_to_nums.items():\n",
    "            compressed_floats = FloatCompressionUtil.__compress_floats_same_bit_count(nums, bits_to_remove=bit_count)\n",
    "            chunk_size_bits = int2ba(len(compressed_floats), length=BITS_FOR_CHUNK_SIZE)\n",
    "\n",
    "            comp_floats_same_bit_count = bitarray()\n",
    "            comp_floats_same_bit_count.extend(chunk_size_bits)\n",
    "            comp_floats_same_bit_count.extend(compressed_floats)\n",
    "\n",
    "            result_bitarray.extend(comp_floats_same_bit_count)\n",
    "\n",
    "        return result_bitarray\n",
    "\n",
    "    @staticmethod\n",
    "    def compress_floats(floats: np.ndarray[np.float32], level: int) -> bitarray:\n",
    "        min_compress = FloatCompressionUtil.__compress_floats_same_bit_count(floats, bits_to_remove=MIN_BITS_REMOVE)\n",
    "        min_comp_recover_floats = FloatCompressionUtil.__decompress_floats_same_bit_count(min_compress)\n",
    "        min_log_mse = np.log(mse(floats, min_comp_recover_floats))\n",
    "\n",
    "        max_compress = FloatCompressionUtil.__compress_floats_same_bit_count(floats, bits_to_remove=MAX_BITS_REMOVE)\n",
    "        max_comp_recover_floats = FloatCompressionUtil.__decompress_floats_same_bit_count(max_compress)\n",
    "        max_log_mse = np.log(mse(floats, max_comp_recover_floats))\n",
    "\n",
    "        step = (max_log_mse - min_log_mse) / MAX_LEVEL\n",
    "        expected_log_mse = min_log_mse + step * level\n",
    "        expected_mse = np.exp(expected_log_mse)\n",
    "\n",
    "        compressed_bitarray = FloatCompressionUtil.__compress_floats_with_mse(floats, expected_mse=expected_mse)\n",
    "        return compressed_bitarray\n",
    "\n",
    "    @staticmethod\n",
    "    def decompress_floats(compressed_data: bitarray) -> np.ndarray[np.float32]:\n",
    "        index = 0\n",
    "        decompressed_floats = []\n",
    "\n",
    "        while index < len(compressed_data):\n",
    "            chunk_size = ba2int(compressed_data[index:index + BITS_FOR_CHUNK_SIZE])\n",
    "            index += BITS_FOR_CHUNK_SIZE\n",
    "\n",
    "            compressed_chunk = compressed_data[index:index + chunk_size]\n",
    "            index += chunk_size\n",
    "\n",
    "            floats_same_bit_count = FloatCompressionUtil.__decompress_floats_same_bit_count(compressed_chunk)\n",
    "\n",
    "            decompressed_floats.append(floats_same_bit_count)\n",
    "\n",
    "        return np.sort(np.concatenate(decompressed_floats))\n",
    "\n",
    "    @staticmethod\n",
    "    def save_floats_compressed(floats: np.ndarray[np.float32], level: int, file_name: str | Path) -> None:\n",
    "        bit_compressed_floats = FloatCompressionUtil.compress_floats(floats=floats, level=level)\n",
    "        BitArraySaver.save_bitarray(bit_compressed_floats, file_name=file_name)\n",
    "\n",
    "    @staticmethod\n",
    "    def load_floats_compressed(file_name: str | Path) -> np.ndarray[np.float32]:\n",
    "        bit_compressed_floats = BitArraySaver.load_bitarray(file_name=file_name)\n",
    "        return FloatCompressionUtil.decompress_floats(bit_compressed_floats)\n"
   ]
  },
  {
   "cell_type": "markdown",
   "id": "KSKVWPQNZeEn",
   "metadata": {
    "id": "KSKVWPQNZeEn"
   },
   "source": [
    "## 2. Exporation of compress impact on float distributions."
   ]
  },
  {
   "cell_type": "markdown",
   "id": "RcbRgGg5aWwH",
   "metadata": {
    "id": "RcbRgGg5aWwH"
   },
   "source": [
    "### Gaussian (normal) distribution\n"
   ]
  },
  {
   "cell_type": "code",
   "execution_count": 9,
   "id": "d19d8383-0743-43a7-b698-56b75336b03c",
   "metadata": {
    "id": "d19d8383-0743-43a7-b698-56b75336b03c"
   },
   "outputs": [],
   "source": [
    "gaussian_mean = 1024.0\n",
    "gaussian_std = 1.0\n",
    "\n",
    "gaussian_var = gaussian_std ** 2\n",
    "gaussian_skew = 0.0\n",
    "gaussian_kurtosis = 3.0\n",
    "num_samples = 2000\n",
    "rnd_floats = np.random.normal(size=(num_samples,), loc=gaussian_mean, scale=gaussian_std).astype(np.float32)\n",
    "rnd_floats = np.sort(rnd_floats)"
   ]
  },
  {
   "cell_type": "code",
   "execution_count": 10,
   "id": "6e48e1f8-e765-43d3-98d6-d31fac6a3da2",
   "metadata": {
    "id": "6e48e1f8-e765-43d3-98d6-d31fac6a3da2"
   },
   "outputs": [],
   "source": [
    "compressed_file_path = \"gaussian_floats_compressed.bin\"\n",
    "numpy_file_path = \"gaussian_floats.bin\"\n",
    "\n",
    "rnd_floats.tofile(numpy_file_path)\n",
    "FloatCompressionUtil.save_floats_compressed(rnd_floats, level=100, file_name=compressed_file_path)\n",
    "rnd_floats_compressed_recovered = FloatCompressionUtil.load_floats_compressed(file_name=compressed_file_path)"
   ]
  },
  {
   "cell_type": "code",
   "execution_count": 11,
   "id": "e3215bbe-3b40-48a3-aa79-6e04f4f248f6",
   "metadata": {
    "colab": {
     "base_uri": "https://localhost:8080/"
    },
    "id": "e3215bbe-3b40-48a3-aa79-6e04f4f248f6",
    "outputId": "62124646-8ced-4ce1-9328-b44652d4778f"
   },
   "outputs": [
    {
     "name": "stdout",
     "output_type": "stream",
     "text": [
      "8000 bytes - size of numpy binfile\n",
      "4136 bytes - size of compressed file\n",
      "1.9342359767891684\n",
      "\n",
      "mse = 5.86189079284668\n",
      "\n",
      "mean_init = 1024.0\n",
      "mean_rnd = 1024.0108642578125\n",
      "mean_rnd_comp = 1022.0040283203125\n",
      "mean_atol = 2.0068359375\n",
      "mean_btol = 0.0019636154174804688\n",
      "\n",
      "var_init = 1.0\n",
      "var_rnd = 0.9424429535865784\n",
      "var_rnd_comp = 3.999983310699463\n",
      "var_atol = 3.0575404167175293\n",
      "var_btol = 0.7643882781267166\n",
      "\n",
      "std_init = 1.0\n",
      "std_rnd = 0.9707950353622437\n",
      "std_rnd_comp = 1.9999958276748657\n",
      "std_atol = 1.029200792312622\n",
      "std_btol = 0.514601469039917\n",
      "\n",
      "skew_init = 0.0\n",
      "skew_rnd = 0.03411380441933143\n",
      "skew_rnd_comp = -0.00404247517269554\n",
      "skew_atol = 0.03815627959202697\n",
      "skew_btol = 9.438840799752937\n",
      "\n",
      "kurtosis_init = 3.0\n",
      "kurtosis_rnd = 2.8822609027993566\n",
      "kurtosis_rnd_comp = 1.0000168086326802\n",
      "kurtosis_atol = 1.8822440941666765\n",
      "kurtosis_btol = 1.882212456748865\n",
      "\n"
     ]
    }
   ],
   "source": [
    "print(f\"{os.path.getsize(numpy_file_path)} bytes - size of numpy binfile\")\n",
    "print(f\"{os.path.getsize(compressed_file_path)} bytes - size of compressed file\")\n",
    "print(f\"{os.path.getsize(numpy_file_path) / os.path.getsize(compressed_file_path)}\")\n",
    "print()\n",
    "\n",
    "print(f\"mse = {mse(rnd_floats, rnd_floats_compressed_recovered)}\\n\")\n",
    "\n",
    "print(f\"mean_init = {gaussian_mean}\")\n",
    "print(f\"mean_rnd = {np.mean(rnd_floats)}\")\n",
    "print(f\"mean_rnd_comp = {np.mean(rnd_floats_compressed_recovered)}\")\n",
    "print(f\"mean_atol = {np.fabs(np.mean(rnd_floats) - np.mean(rnd_floats_compressed_recovered))}\")\n",
    "print(f\"mean_btol = {np.fabs(np.mean(rnd_floats) / np.mean(rnd_floats_compressed_recovered) - 1)}\")\n",
    "print()\n",
    "\n",
    "print(f\"var_init = {gaussian_var}\")\n",
    "print(f\"var_rnd = {np.var(rnd_floats)}\")\n",
    "print(f\"var_rnd_comp = {np.var(rnd_floats_compressed_recovered)}\")\n",
    "print(f\"var_atol = {np.fabs(np.var(rnd_floats) - np.var(rnd_floats_compressed_recovered))}\")\n",
    "print(f\"var_btol = {np.fabs(np.var(rnd_floats) / np.var(rnd_floats_compressed_recovered) - 1)}\")\n",
    "print()\n",
    "\n",
    "print(f\"std_init = {gaussian_std}\")\n",
    "print(f\"std_rnd = {np.std(rnd_floats)}\")\n",
    "print(f\"std_rnd_comp = {np.std(rnd_floats_compressed_recovered)}\")\n",
    "print(f\"std_atol = {np.fabs(np.std(rnd_floats) - np.std(rnd_floats_compressed_recovered))}\")\n",
    "print(f\"std_btol = {np.fabs(np.std(rnd_floats) / np.std(rnd_floats_compressed_recovered) - 1)}\")\n",
    "print()\n",
    "\n",
    "print(f\"skew_init = {gaussian_skew}\")\n",
    "print(f\"skew_rnd = {skew(rnd_floats)}\")\n",
    "print(f\"skew_rnd_comp = {skew(rnd_floats_compressed_recovered)}\")\n",
    "print(f\"skew_atol = {np.fabs(skew(rnd_floats) - skew(rnd_floats_compressed_recovered))}\")\n",
    "print(f\"skew_btol = {np.fabs(skew(rnd_floats) / skew(rnd_floats_compressed_recovered) - 1)}\")\n",
    "print()\n",
    "\n",
    "print(f\"kurtosis_init = {gaussian_kurtosis}\")\n",
    "print(f\"kurtosis_rnd = {kurtosis(rnd_floats, fisher=False)}\")\n",
    "print(f\"kurtosis_rnd_comp = {kurtosis(rnd_floats_compressed_recovered, fisher=False)}\")\n",
    "print(f\"kurtosis_atol = {np.fabs(kurtosis(rnd_floats, fisher=False) - kurtosis(rnd_floats_compressed_recovered, fisher=False))}\")\n",
    "print(f\"kurtosis_btol = {np.fabs(kurtosis(rnd_floats, fisher=False) / kurtosis(rnd_floats_compressed_recovered, fisher=False) - 1)}\")\n",
    "print()"
   ]
  },
  {
   "cell_type": "markdown",
   "id": "hsM74LBdaq1I",
   "metadata": {
    "id": "hsM74LBdaq1I"
   },
   "source": [
    "### Uniform distribution"
   ]
  },
  {
   "cell_type": "code",
   "execution_count": null,
   "id": "51efd610-fd61-497b-8593-7a732b384ded",
   "metadata": {
    "id": "51efd610-fd61-497b-8593-7a732b384ded"
   },
   "outputs": [],
   "source": [
    "uniform_low = -1.0\n",
    "uniform_high = 1.0\n",
    "\n",
    "uniform_var = ((uniform_high - uniform_low) ** 2) / 12  # Variance of uniform distribution\n",
    "uniform_skew = 0.0\n",
    "uniform_kurtosis = 1.8\n",
    "num_samples = 2000\n",
    "\n",
    "rnd_floats = np.random.uniform(low=uniform_low, high=uniform_high, size=(num_samples,)).astype(np.float32)\n",
    "rnd_floats = np.sort(rnd_floats)"
   ]
  },
  {
   "cell_type": "code",
   "execution_count": null,
   "id": "e18792ba-a52b-4c67-8831-7024760f6451",
   "metadata": {
    "id": "e18792ba-a52b-4c67-8831-7024760f6451",
    "scrolled": true
   },
   "outputs": [],
   "source": [
    "compressed_file_path = \"uniform_floats_compressed.bin\"\n",
    "numpy_file_path = \"uniform_floats.bin\"\n",
    "\n",
    "# Save data to binary files\n",
    "rnd_floats.tofile(numpy_file_path)\n",
    "FloatCompressionUtil.save_floats_compressed(rnd_floats, level=100, file_name=compressed_file_path)\n",
    "rnd_floats_compressed_recovered = FloatCompressionUtil.load_floats_compressed(file_name=compressed_file_path)"
   ]
  },
  {
   "cell_type": "code",
   "execution_count": null,
   "id": "f6dd29a8-e8a7-47b7-adb7-2b1e0b948fc0",
   "metadata": {
    "id": "f6dd29a8-e8a7-47b7-adb7-2b1e0b948fc0",
    "outputId": "8f5f1dda-9012-42af-d59c-342ab37fb05d"
   },
   "outputs": [
    {
     "name": "stdout",
     "output_type": "stream",
     "text": [
      "8000 bytes - size of numpy binfile\n",
      "4016 bytes - size of compressed file\n",
      "1.9920318725099602\n",
      "\n",
      "mean_init = 0.0\n",
      "mean_rnd = -0.007698013447225094\n",
      "mean_rnd_comp = -0.007667053025215864\n",
      "mean_atol = 3.096042200922966e-05\n",
      "mean_btol = 0.004038095474243164\n",
      "\n",
      "var_init = 0.3333333333333333\n",
      "var_rnd = 0.32989880442619324\n",
      "var_rnd_comp = 0.3283200263977051\n",
      "var_atol = 0.0015787780284881592\n",
      "var_btol = 0.004808664321899414\n",
      "\n",
      "std_init = 0.5773502691896257\n",
      "std_rnd = 0.5743681788444519\n",
      "std_rnd_comp = 0.5729921460151672\n",
      "std_atol = 0.001376032829284668\n",
      "std_btol = 0.0024014711380004883\n",
      "\n",
      "skew_init = 0.0\n",
      "skew_rnd = 0.015769630536260838\n",
      "skew_rnd_comp = 0.015924960559646657\n",
      "skew_atol = 0.00015533002338581972\n",
      "skew_btol = 0.009753871779087597\n",
      "\n",
      "kurtosis_init = 1.8\n",
      "kurtosis_rnd = 1.820998349005331\n",
      "kurtosis_rnd_comp = 1.8222314678258935\n",
      "kurtosis_atol = 0.0012331188205625399\n",
      "kurtosis_btol = 0.000676708114383362\n",
      "\n"
     ]
    }
   ],
   "source": [
    "print(f\"{os.path.getsize(numpy_file_path)} bytes - size of numpy binfile\")\n",
    "print(f\"{os.path.getsize(compressed_file_path)} bytes - size of compressed file\")\n",
    "print(f\"{os.path.getsize(numpy_file_path) / os.path.getsize(compressed_file_path)}\")\n",
    "print()\n",
    "\n",
    "print(f\"mse = {mse(rnd_floats, rnd_floats_compressed_recovered)}\\n\")\n",
    "\n",
    "print(f\"mean_init = {(uniform_high + uniform_low) / 2}\")\n",
    "print(f\"mean_rnd = {np.mean(rnd_floats)}\")\n",
    "print(f\"mean_rnd_comp = {np.mean(rnd_floats_compressed_recovered)}\")\n",
    "print(f\"mean_atol = {np.fabs(np.mean(rnd_floats) - np.mean(rnd_floats_compressed_recovered))}\")\n",
    "print(f\"mean_btol = {np.fabs(np.mean(rnd_floats) / np.mean(rnd_floats_compressed_recovered) - 1)}\")\n",
    "print()\n",
    "\n",
    "print(f\"var_init = {uniform_var}\")\n",
    "print(f\"var_rnd = {np.var(rnd_floats)}\")\n",
    "print(f\"var_rnd_comp = {np.var(rnd_floats_compressed_recovered)}\")\n",
    "print(f\"var_atol = {np.fabs(np.var(rnd_floats) - np.var(rnd_floats_compressed_recovered))}\")\n",
    "print(f\"var_btol = {np.fabs(np.var(rnd_floats) / np.var(rnd_floats_compressed_recovered) - 1)}\")\n",
    "print()\n",
    "\n",
    "print(f\"std_init = {np.sqrt(uniform_var)}\")\n",
    "print(f\"std_rnd = {np.std(rnd_floats)}\")\n",
    "print(f\"std_rnd_comp = {np.std(rnd_floats_compressed_recovered)}\")\n",
    "print(f\"std_atol = {np.fabs(np.std(rnd_floats) - np.std(rnd_floats_compressed_recovered))}\")\n",
    "print(f\"std_btol = {np.fabs(np.std(rnd_floats) / np.std(rnd_floats_compressed_recovered) - 1)}\")\n",
    "print()\n",
    "\n",
    "print(f\"skew_init = {uniform_skew}\")\n",
    "print(f\"skew_rnd = {skew(rnd_floats)}\")\n",
    "print(f\"skew_rnd_comp = {skew(rnd_floats_compressed_recovered)}\")\n",
    "print(f\"skew_atol = {np.fabs(skew(rnd_floats) - skew(rnd_floats_compressed_recovered))}\")\n",
    "print(f\"skew_btol = {np.fabs(skew(rnd_floats) / skew(rnd_floats_compressed_recovered) - 1)}\")\n",
    "print()\n",
    "\n",
    "print(f\"kurtosis_init = {uniform_kurtosis}\")\n",
    "print(f\"kurtosis_rnd = {kurtosis(rnd_floats, fisher=False)}\")\n",
    "print(f\"kurtosis_rnd_comp = {kurtosis(rnd_floats_compressed_recovered, fisher=False)}\")\n",
    "print(f\"kurtosis_atol = {np.fabs(kurtosis(rnd_floats, fisher=False) - kurtosis(rnd_floats_compressed_recovered, fisher=False))}\")\n",
    "print(f\"kurtosis_btol = {np.fabs(kurtosis(rnd_floats, fisher=False) / kurtosis(rnd_floats_compressed_recovered, fisher=False) - 1)}\")\n",
    "print()"
   ]
  },
  {
   "cell_type": "markdown",
   "id": "38bljZr8a2tv",
   "metadata": {
    "id": "38bljZr8a2tv"
   },
   "source": [
    "### Exponential distribution"
   ]
  },
  {
   "cell_type": "code",
   "execution_count": null,
   "id": "74eaefee-ee6e-4982-a53b-51889352fc4c",
   "metadata": {
    "id": "74eaefee-ee6e-4982-a53b-51889352fc4c"
   },
   "outputs": [],
   "source": [
    "exponential_lambda = 100.0\n",
    "exponential_mean = 1 / exponential_lambda\n",
    "exponential_var = 1 / (exponential_lambda ** 2)\n",
    "exponential_skew = 2.0\n",
    "exponential_kurtosis = 9.0\n",
    "num_samples = 2000\n",
    "\n",
    "rnd_floats = np.random.exponential(scale=exponential_mean, size=(num_samples,)).astype(np.float32)\n",
    "rnd_floats = np.sort(rnd_floats)\n",
    "#rnd_floats = np.log(rnd_floats)"
   ]
  },
  {
   "cell_type": "code",
   "execution_count": null,
   "id": "6e61c86e-4fdf-4f3e-a423-4e8b26d8e207",
   "metadata": {
    "id": "6e61c86e-4fdf-4f3e-a423-4e8b26d8e207"
   },
   "outputs": [],
   "source": [
    "compressed_file_path = \"exponential_floats_compressed.bin\"\n",
    "numpy_file_path = \"exponential_floats.bin\"\n",
    "\n",
    "rnd_floats.tofile(numpy_file_path)\n",
    "FloatCompressionUtil.save_floats_compressed(rnd_floats, level=100, file_name=compressed_file_path)\n",
    "rnd_floats_compressed_recovered = FloatCompressionUtil.load_floats_compressed(file_name=compressed_file_path)"
   ]
  },
  {
   "cell_type": "code",
   "execution_count": null,
   "id": "580508b5-33e4-460b-a040-6a7747e09331",
   "metadata": {
    "id": "580508b5-33e4-460b-a040-6a7747e09331",
    "outputId": "c35c3280-91f8-4e93-acea-3699837a2e89"
   },
   "outputs": [
    {
     "name": "stdout",
     "output_type": "stream",
     "text": [
      "8000 bytes - size of numpy binfile\n",
      "4073 bytes - size of compressed file\n",
      "1.9641541861036091\n",
      "\n",
      "mse = 6.01487915030674e-10\n",
      "\n",
      "mean_init = 0.01\n",
      "mean_rnd = 0.009564168751239777\n",
      "mean_rnd_comp = 0.009546286426484585\n",
      "mean_atol = 1.7882324755191803e-05\n",
      "mean_btol = 0.0018732547760009766\n",
      "\n",
      "var_init = 0.0001\n",
      "var_rnd = 8.336390601471066e-05\n",
      "var_rnd_comp = 8.320878259837627e-05\n",
      "var_atol = 1.5512341633439064e-07\n",
      "var_btol = 0.001864314079284668\n",
      "\n",
      "std_init = 0.01\n",
      "std_rnd = 0.009130383841693401\n",
      "std_rnd_comp = 0.00912188459187746\n",
      "std_atol = 8.499249815940857e-06\n",
      "std_btol = 0.0009317398071289062\n",
      "\n",
      "skew_init = 2.0\n",
      "skew_rnd = 1.6107773240879408\n",
      "skew_rnd_comp = 1.6138793066347792\n",
      "skew_atol = 0.0031019825468383555\n",
      "skew_btol = 0.0019220660021389557\n",
      "\n",
      "kurtosis_init = 9.0\n",
      "kurtosis_rnd = 5.977748291542782\n",
      "kurtosis_rnd_comp = 5.990956551345844\n",
      "kurtosis_atol = 0.013208259803062283\n",
      "kurtosis_btol = 0.0022046996485218795\n",
      "\n"
     ]
    }
   ],
   "source": [
    "print(f\"{os.path.getsize(numpy_file_path)} bytes - size of numpy binfile\")\n",
    "print(f\"{os.path.getsize(compressed_file_path)} bytes - size of compressed file\")\n",
    "print(f\"{os.path.getsize(numpy_file_path) / os.path.getsize(compressed_file_path)}\")\n",
    "print()\n",
    "\n",
    "print(f\"mse = {mse(rnd_floats, rnd_floats_compressed_recovered)}\\n\")\n",
    "\n",
    "\n",
    "print(f\"mean_init = {exponential_mean}\")\n",
    "print(f\"mean_rnd = {np.mean(rnd_floats)}\")\n",
    "print(f\"mean_rnd_comp = {np.mean(rnd_floats_compressed_recovered)}\")\n",
    "print(f\"mean_atol = {np.fabs(np.mean(rnd_floats) - np.mean(rnd_floats_compressed_recovered))}\")\n",
    "print(f\"mean_btol = {np.fabs(np.mean(rnd_floats) / np.mean(rnd_floats_compressed_recovered) - 1)}\")\n",
    "print()\n",
    "\n",
    "print(f\"var_init = {exponential_var}\")\n",
    "print(f\"var_rnd = {np.var(rnd_floats)}\")\n",
    "print(f\"var_rnd_comp = {np.var(rnd_floats_compressed_recovered)}\")\n",
    "print(f\"var_atol = {np.fabs(np.var(rnd_floats) - np.var(rnd_floats_compressed_recovered))}\")\n",
    "print(f\"var_btol = {np.fabs(np.var(rnd_floats) / np.var(rnd_floats_compressed_recovered) - 1)}\")\n",
    "print()\n",
    "\n",
    "print(f\"std_init = {np.sqrt(exponential_var)}\")\n",
    "print(f\"std_rnd = {np.std(rnd_floats)}\")\n",
    "print(f\"std_rnd_comp = {np.std(rnd_floats_compressed_recovered)}\")\n",
    "print(f\"std_atol = {np.fabs(np.std(rnd_floats) - np.std(rnd_floats_compressed_recovered))}\")\n",
    "print(f\"std_btol = {np.fabs(np.std(rnd_floats) / np.std(rnd_floats_compressed_recovered) - 1)}\")\n",
    "print()\n",
    "\n",
    "print(f\"skew_init = {exponential_skew}\")\n",
    "print(f\"skew_rnd = {skew(rnd_floats)}\")\n",
    "print(f\"skew_rnd_comp = {skew(rnd_floats_compressed_recovered)}\")\n",
    "print(f\"skew_atol = {np.fabs(skew(rnd_floats) - skew(rnd_floats_compressed_recovered))}\")\n",
    "print(f\"skew_btol = {np.fabs(skew(rnd_floats) / skew(rnd_floats_compressed_recovered) - 1)}\")\n",
    "print()\n",
    "\n",
    "print(f\"kurtosis_init = {exponential_kurtosis}\")\n",
    "print(f\"kurtosis_rnd = {kurtosis(rnd_floats, fisher=False)}\")\n",
    "print(f\"kurtosis_rnd_comp = {kurtosis(rnd_floats_compressed_recovered, fisher=False)}\")\n",
    "print(f\"kurtosis_atol = {np.fabs(kurtosis(rnd_floats, fisher=False) - kurtosis(rnd_floats_compressed_recovered, fisher=False))}\")\n",
    "print(f\"kurtosis_btol = {np.fabs(kurtosis(rnd_floats, fisher=False) / kurtosis(rnd_floats_compressed_recovered, fisher=False) - 1)}\")\n",
    "print()"
   ]
  },
  {
   "cell_type": "markdown",
   "id": "VQSTAHG7bWNp",
   "metadata": {
    "id": "VQSTAHG7bWNp"
   },
   "source": [
    "## 3. Visualisation"
   ]
  },
  {
   "cell_type": "markdown",
   "id": "LqCwzpSwbiPt",
   "metadata": {
    "id": "LqCwzpSwbiPt"
   },
   "source": [
    "### Plot for memory usage for different levels of compression"
   ]
  },
  {
   "cell_type": "markdown",
   "id": "c35c754a-1ada-41c3-aa82-4dfd8409456f",
   "metadata": {
    "id": "c35c754a-1ada-41c3-aa82-4dfd8409456f"
   },
   "source": [
    "We are interested in memory usage of saving floats that depend on the level of compression. I have seen only that stepped function because memory usage is mostly dependent on the number of bits removed from large groups of numbers with large exponents."
   ]
  },
  {
   "cell_type": "code",
   "execution_count": 12,
   "id": "fa6c6627-bd12-43e0-96ab-0c9de910f7e4",
   "metadata": {
    "id": "fa6c6627-bd12-43e0-96ab-0c9de910f7e4"
   },
   "outputs": [],
   "source": [
    "def plot_floats_memory_usage(floats: np.ndarray[np.float32]) -> None:\n",
    "    memory_list = []\n",
    "    for level in range(0, MAX_LEVEL + 1):\n",
    "        comr_bitarray = FloatCompressionUtil.compress_floats(floats, level=level)\n",
    "        memory_list.append(np.ceil(len(comr_bitarray) / BITS_PER_BYTE))\n",
    "\n",
    "    compression_levels = list(range(0, MAX_LEVEL + 1))\n",
    "\n",
    "    plt.figure(figsize=(8, 5))\n",
    "    plt.plot(compression_levels, memory_list, marker='o', linestyle='-', markersize=1, color='b', label='Compressed File Size')\n",
    "    plt.xlabel(\"Compression Level\")\n",
    "    plt.ylabel(\"File Size (Bytes)\")\n",
    "    plt.title(\"Compressed File Size vs Compression Level\")\n",
    "    plt.legend()\n",
    "    plt.grid()\n",
    "    plt.show()"
   ]
  },
  {
   "cell_type": "markdown",
   "id": "cda5b254-2eda-4d81-a35d-164aa82c26e5",
   "metadata": {
    "id": "cda5b254-2eda-4d81-a35d-164aa82c26e5"
   },
   "source": [
    "Also we are interested in changes of distribution appearance due to compression. In the worst case we can zero last 16 bits so we have $23 - 16 = 7$ mantissa bits correctly obtained. This is an $2^{-7} = 0.0078125$ error relatile to the number. If we sample small numbers we won't see serious deviations.\n",
    "However, if the sampled number is large we will try to round up it to the maximum possible number that has the last $16$ bits zero and is less than the sampled number. There are $2^{7} = 128$ possible numbers we can round up to for any exponent. Suppose we sample from a Gaussian distribution around a large number, for example, $1024$, with a standard deviation of $1$. So most of the sampled numbers will be in range $[1024-3, 1024+3]$, which can be rounded up to $1020$ or $1024$. As a result, the distribution will have two tall sticks in $1020$ and $1024$ and some mush smaller values we are not interested in."
   ]
  },
  {
   "cell_type": "code",
   "execution_count": 13,
   "id": "1b375c87-5af8-458c-a119-7b9960395e9e",
   "metadata": {
    "colab": {
     "base_uri": "https://localhost:8080/",
     "height": 487
    },
    "id": "1b375c87-5af8-458c-a119-7b9960395e9e",
    "outputId": "0cd1c30c-c686-4465-d12d-e46893cf79cf"
   },
   "outputs": [
    {
     "data": {
      "image/png": "[encoded data removed]",
      "text/plain": [
       "<Figure size 800x500 with 1 Axes>"
      ]
     },
     "metadata": {},
     "output_type": "display_data"
    }
   ],
   "source": [
    "plot_floats_memory_usage(rnd_floats)"
   ]
  },
  {
   "cell_type": "markdown",
   "id": "97x1Glt-cfbT",
   "metadata": {
    "id": "97x1Glt-cfbT"
   },
   "source": [
    "### Plot for floats distribution before and after compression."
   ]
  },
  {
   "cell_type": "code",
   "execution_count": 14,
   "id": "8e09595a-1684-487e-b7a1-86adb53cf2f9",
   "metadata": {
    "id": "8e09595a-1684-487e-b7a1-86adb53cf2f9"
   },
   "outputs": [],
   "source": [
    "def plot_distributions(floats: np.ndarray[np.float32], floats_compressed_recovered: np.ndarray[np.float32]) -> None:\n",
    "    n = len(floats)\n",
    "    k = int(np.ceil(np.log2(n) + 1))\n",
    "    bins = k\n",
    "\n",
    "    plt.figure(figsize=(10, 6))\n",
    "    plt.hist(floats, bins=bins, edgecolor='black', alpha=0.5, label=\"Sampled numbers\")\n",
    "    plt.hist(floats_compressed_recovered, bins=bins, edgecolor='black', alpha=0.5, label=\"Recovered numbers\")\n",
    "    plt.title('Distribution')\n",
    "    plt.xlabel('Float Values')\n",
    "    plt.ylabel('Frequency')\n",
    "    plt.grid(True)\n",
    "    plt.legend()\n",
    "    plt.show()"
   ]
  },
  {
   "cell_type": "code",
   "execution_count": 15,
   "id": "6a48aac1-b30e-48de-98d8-9d4bb8b6fb4f",
   "metadata": {
    "colab": {
     "base_uri": "https://localhost:8080/",
     "height": 564
    },
    "id": "6a48aac1-b30e-48de-98d8-9d4bb8b6fb4f",
    "outputId": "abdb66f3-5110-42c4-a945-233893bdfab6"
   },
   "outputs": [
    {
     "data": {
      "image/png": "[encoded data removed]",
      "text/plain": [
       "<Figure size 1000x600 with 1 Axes>"
      ]
     },
     "metadata": {},
     "output_type": "display_data"
    }
   ],
   "source": [
    "plot_distributions(rnd_floats, rnd_floats_compressed_recovered)"
   ]
  },
  {
   "cell_type": "markdown",
   "id": "G-MxfpSnc-go",
   "metadata": {
    "id": "G-MxfpSnc-go"
   },
   "source": [
    "## 4.Conclusion"
   ]
  },
  {
   "cell_type": "markdown",
   "id": "10bf8786-e117-4bd2-8e6e-b88b72ddc35a",
   "metadata": {
    "id": "10bf8786-e117-4bd2-8e6e-b88b72ddc35a"
   },
   "source": [
    "I explored a float compression technique based on removing the least significant bits. This is a simple method, but it has limitations. We can only use it when the relative error of a number (from $2^{-7}$ to $2^{-15}$) is not too much for us. I created an algorithm where we remove the same number of bits from numbers with the same sign and exponent. However, the curve of memory usage vs level compression was stepped.\n",
    "\n",
    "I believe developing an algorithm where we can remove n bits from one subset of numbers (even random subset) and n+1 bits from the others could solve this problem but it would be more time consuming.\n",
    "\n",
    "When I recovered floats I added zero bits to the end, but in my opinion, it would be more logical to add 10..0 instead. This minor improvement can make MSE two times less."
   ]
  },
  {
   "cell_type": "code",
   "execution_count": null,
   "id": "27082820-3186-4fff-8071-d41e587f3c2d",
   "metadata": {
    "id": "27082820-3186-4fff-8071-d41e587f3c2d"
   },
   "outputs": [],
   "source": []
  }
 ],
 "metadata": {
  "colab": {
   "collapsed_sections": [
    "RcbRgGg5aWwH",
    "hsM74LBdaq1I",
    "38bljZr8a2tv"
   ],
   "provenance": []
  },
  "kernelspec": {
   "display_name": "Python 3 (ipykernel)",
   "language": "python",
   "name": "python3"
  },
  "language_info": {
   "codemirror_mode": {
    "name": "ipython",
    "version": 3
   },
   "file_extension": ".py",
   "mimetype": "text/x-python",
   "name": "python",
   "nbconvert_exporter": "python",
   "pygments_lexer": "ipython3",
   "version": "3.11.4"
  }
 },
 "nbformat": 4,
 "nbformat_minor": 5
}
