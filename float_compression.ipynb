{
  "cells": [
    {
      "cell_type": "markdown",
      "id": "e7mtelRAOKqk",
      "metadata": {
        "id": "e7mtelRAOKqk"
      },
      "source": [
        "# Float loss compression by removing the least significant bits\n"
      ]
    },
    {
      "cell_type": "markdown",
      "id": "8FQFnGeuPJhy",
      "metadata": {
        "id": "8FQFnGeuPJhy"
      },
      "source": [
        "## Content\n",
        "\n",
        "### 1. Idea:\n",
        "Compress numbers by removing between 8 and 16 bits.\n",
        "\n",
        "### 2. Exploration of compress impact on float distributions.\n",
        "We will analyze the compress impact on the following distribution:\n",
        "- **Uniform distribution**  \n",
        "- **Gaussian (normal) distribution**  \n",
        "- **Exponential distribution**  \n",
        "\n",
        "For each distribution we will:\n",
        "\n",
        "- Generate a relatively large sample.  \n",
        "- Save the floats to a file using NumPy and our compression algorithm.  \n",
        "- Read the floats back from the compressed file.  \n",
        "- Compare statistical parameters of the original and recompressed floats.  \n",
        "\n",
        "\n",
        "### 3. Visualisation\n",
        " - Create plot for memory usage for different levels of compression\n",
        " - Create plot for floats distribution before and after compression.\n",
        "\n",
        "### 4. Conclusion"
      ]
    },
    {
      "cell_type": "markdown",
      "id": "ImywHxv2V_uj",
      "metadata": {
        "id": "ImywHxv2V_uj"
      },
      "source": [
        "##1. Idea"
      ]
    },
    {
      "cell_type": "markdown",
      "id": "AytSMhNyVSkp",
      "metadata": {
        "id": "AytSMhNyVSkp"
      },
      "source": [
        "Importing libraries."
      ]
    },
    {
      "cell_type": "code",
      "execution_count": 2,
      "id": "THRcJzn1OGDB",
      "metadata": {
        "colab": {
          "base_uri": "https://localhost:8080/"
        },
        "id": "THRcJzn1OGDB",
        "outputId": "5be2b53d-ed8a-4a53-9263-da85cdf4905e"
      },
      "outputs": [
        {
          "name": "stdout",
          "output_type": "stream",
          "text": [
            "Collecting bitarray\n",
            "  Downloading bitarray-3.1.1-cp311-cp311-manylinux_2_17_x86_64.manylinux2014_x86_64.whl.metadata (32 kB)\n",
            "Downloading bitarray-3.1.1-cp311-cp311-manylinux_2_17_x86_64.manylinux2014_x86_64.whl (301 kB)\n",
            "\u001b[2K   \u001b[90m━━━━━━━━━━━━━━━━━━━━━━━━━━━━━━━━━━━━━━━━\u001b[0m \u001b[32m301.5/301.5 kB\u001b[0m \u001b[31m7.6 MB/s\u001b[0m eta \u001b[36m0:00:00\u001b[0m\n",
            "\u001b[?25hInstalling collected packages: bitarray\n",
            "Successfully installed bitarray-3.1.1\n"
          ]
        }
      ],
      "source": [
        "!pip install bitarray\n",
        "from pathlib import Path\n",
        "import numpy as np\n",
        "from bitarray import bitarray\n",
        "from bitarray.util import int2ba, ba2int\n",
        "import os\n",
        "from scipy.stats import skew, kurtosis\n",
        "import matplotlib.pyplot as plt"
      ]
    },
    {
      "cell_type": "code",
      "execution_count": 15,
      "id": "a9e7280a-8287-4f5c-80e0-43f4cb09bee8",
      "metadata": {
        "id": "a9e7280a-8287-4f5c-80e0-43f4cb09bee8"
      },
      "outputs": [],
      "source": [
        "BITS_PER_BYTE = 8\n",
        "\n",
        "# min amd max bits we can remove from floats due to the statement\n",
        "MIN_BITS_REMOVE = 8\n",
        "MAX_BITS_REMOVE = 16\n",
        "\n",
        "# max level of the compression\n",
        "MAX_LEVEL = 100\n",
        "\n",
        "bits_float32 = np.dtype(np.float32).itemsize * 8\n",
        "mantissa_bits = np.finfo(np.float32).nmant"
      ]
    },
    {
      "cell_type": "markdown",
      "id": "9c7d1043-d8c9-4f3c-928b-d18baafd8828",
      "metadata": {
        "id": "9c7d1043-d8c9-4f3c-928b-d18baafd8828"
      },
      "source": [
        "Let's start with a helper class that allows storing a bitarray in file.\n",
        "\n",
        "**Bitarray saver**\n",
        "\n",
        "Library function loads bit array from file with trailing zeros for byte alignment. This class was created to overcome that problem.\n",
        "\n",
        "To save the bit array I added the required number of zeros to byte alignment and one byte to write that number.\n",
        "\n",
        "To read back that array we need:\n",
        "\n",
        "1.   Remove the last byte, which stores the number of trailing zeros.\n",
        "2.   Get number of trailing zeros from that byte.\n",
        "3.   Remove given number of trailing zeros.\n",
        "\n",
        "*Example:*\n",
        "\n",
        "Suppose we want to store $\\color{blue}{\\text{010110}}$ bit array.\n",
        "1. Add 2 zeros to byte aligment so we have $\\color{blue}{\\text{010110}}\\color{red}{\\text{00}}$.\n",
        "2. 2 have byte represantation $\\color{green}{\\text{00000010}}$\n",
        "3. Add that byte to our bit array $\\color{blue}{\\text{010110}}\\color{red}{\\text{00}}\\color{green}{\\text{00000010}}$\n",
        "\n",
        "Last array we will store in a file."
      ]
    },
    {
      "cell_type": "code",
      "execution_count": 34,
      "id": "c50ac8e8-d040-41ea-a939-3c1485840159",
      "metadata": {
        "id": "c50ac8e8-d040-41ea-a939-3c1485840159"
      },
      "outputs": [],
      "source": [
        "class BitArraySaver:\n",
        "\n",
        "    @staticmethod\n",
        "    def save_bitarray(bit_array: bitarray, file_name: str | Path):\n",
        "        n = len(bit_array)\n",
        "        trailing_zeros = (BITS_PER_BYTE - 1) - (n - 1) % BITS_PER_BYTE\n",
        "        bit_array = bit_array.copy()\n",
        "        bit_array.extend(trailing_zeros * '0')\n",
        "        bit_array.extend(int2ba(trailing_zeros, length=BITS_PER_BYTE))\n",
        "\n",
        "        with open(file_name, \"wb\") as f:\n",
        "            bit_array.tofile(f)\n",
        "\n",
        "    @staticmethod\n",
        "    def load_bitarray(file_name: str | Path):\n",
        "        bit_array = bitarray()\n",
        "        with open(file_name, \"rb\") as f:\n",
        "            bit_array.fromfile(f)\n",
        "\n",
        "        trailing_zeros = ba2int(bit_array[-BITS_PER_BYTE:])\n",
        "        del bit_array[-(BITS_PER_BYTE + trailing_zeros):]\n",
        "        return bit_array\n"
      ]
    },
    {
      "cell_type": "markdown",
      "id": "2d0ac14d-011b-4f11-a517-0b1bd530b781",
      "metadata": {
        "id": "2d0ac14d-011b-4f11-a517-0b1bd530b781"
      },
      "source": [
        "**Lossy compression algorithm**\n",
        "\n",
        "We divide those floats into groups by the same sign and exponent part. Suppose we have expected MSE for our compression. We try to remove a number of least significant mantissa bits from each group separately so that MSE of error of that compression is the most closed to our expected MSE.\n",
        "\n",
        "So in the end we obtain actual MSE of our compression similar to expected. However:\n",
        "*   if expected MSE is too large we remove MIN_BITS_REMOVE bits from each number.\n",
        "*   if expected MSE is too small we remove MAX_BITS_REMOVE bits from each number.\n",
        "\n",
        "MSE is not dimensionless quantity so I decided to put level=0 compression for the smallest possible actual MSE, and level=MAX_LEVEL for the biggest possible actual MSE. I make intermittent levels by dividing the logarithmic curve from min to max actual MSE into equal parts."
      ]
    },
    {
      "cell_type": "code",
      "execution_count": 32,
      "id": "37cedef7-ccfd-49d9-b735-ae730aa10e05",
      "metadata": {
        "id": "37cedef7-ccfd-49d9-b735-ae730aa10e05"
      },
      "outputs": [],
      "source": [
        "BITS_NUM_FOR_BIT_TO_REMOVE = 6\n",
        "BITS_FOR_CHUNK_SIZE = 32\n",
        "\n",
        "def mse(floats: np.ndarray[np.float32], floats_compressed: np.ndarray[np.float32]):\n",
        "    return np.mean((floats - floats_compressed) ** 2)\n",
        "\n",
        "class FloatCompressionUtil:\n",
        "\n",
        "    @staticmethod\n",
        "    def __zero_last_mantissa_bits(floats: np.ndarray[np.float32], bits_to_zero: int) -> np.ndarray[np.float32]:\n",
        "        mask = np.int32(-1).view(np.uint32) << bits_to_zero\n",
        "        return (floats.view(np.uint32) & mask).astype(np.uint32).view(np.float32)\n",
        "\n",
        "    @staticmethod\n",
        "    def __float_mantissa_compression(floats: np.ndarray[np.float32], bits_to_remove: int) -> bitarray:\n",
        "        n = len(floats)\n",
        "        floats_zmb = FloatCompressionUtil.__zero_last_mantissa_bits(floats=floats, bits_to_zero=bits_to_remove)\n",
        "\n",
        "        float_bit_size = bits_float32 - bits_to_remove\n",
        "        bit_compressed_floats = bitarray(float_bit_size * n)\n",
        "        for idx, fl in enumerate(floats_zmb):\n",
        "            fl_bit_array = int2ba(int(fl.view(np.uint32) >> bits_to_remove), length=float_bit_size)\n",
        "            bit_compressed_floats[float_bit_size * idx:float_bit_size * (idx + 1)] = fl_bit_array\n",
        "\n",
        "        return bit_compressed_floats\n",
        "\n",
        "    @staticmethod\n",
        "    def __from_bitarray_to_floats(floats_bitarray: bitarray, bits_to_recover: int):\n",
        "        float_bit_size = bits_float32 - bits_to_recover\n",
        "\n",
        "        if len(floats_bitarray) % float_bit_size != 0:\n",
        "            raise ValueError(\"Incorrect number of bits for floats recover.\")\n",
        "\n",
        "        n = len(floats_bitarray) // float_bit_size\n",
        "\n",
        "        floats = np.zeros(shape=(n,), dtype=np.float32)\n",
        "        for i in range(n):\n",
        "            float_bits = floats_bitarray[float_bit_size * i: float_bit_size * (i + 1)]\n",
        "            int_value = np.uint32(ba2int(float_bits))\n",
        "            floats[i] = np.float32(np.frombuffer((int_value << bits_to_recover).tobytes(), dtype=np.float32)[0])\n",
        "\n",
        "        return floats\n",
        "\n",
        "    @staticmethod\n",
        "    def __compress_floats_same_bit_count(floats: np.ndarray[np.float32], bits_to_remove: int) -> bitarray:\n",
        "        bit_compressed_floats = FloatCompressionUtil.__float_mantissa_compression(floats=floats, bits_to_remove=bits_to_remove)\n",
        "        bit_compressed_floats.extend(int2ba(bits_to_remove, length=BITS_NUM_FOR_BIT_TO_REMOVE))\n",
        "        return bit_compressed_floats\n",
        "\n",
        "    @staticmethod\n",
        "    def __decompress_floats_same_bit_count(bit_compressed_floats: bitarray) -> np.ndarray[np.float32]:\n",
        "        bit_compressed_floats = bit_compressed_floats.copy()\n",
        "        bit_count = ba2int(bit_compressed_floats[-BITS_NUM_FOR_BIT_TO_REMOVE:])\n",
        "        del bit_compressed_floats[-BITS_NUM_FOR_BIT_TO_REMOVE:]\n",
        "        floats = FloatCompressionUtil.__from_bitarray_to_floats(bit_compressed_floats, bits_to_recover=bit_count)\n",
        "        return floats\n",
        "\n",
        "    @staticmethod\n",
        "    def __part_floats_by_bit_count(floats: np.ndarray[np.float32], expected_mse: float) -> dict[int, np.ndarray[np.float32]]:\n",
        "        sign_exp_parts = floats.view(np.uint32) >> mantissa_bits\n",
        "        unique_sign_exp_parts, inverse_idxs = np.unique(sign_exp_parts, return_inverse=True)\n",
        "        sign_exp_to_nums = {sign_exp_part: floats[inverse_idxs == i] for i, sign_exp_part in enumerate(unique_sign_exp_parts)}\n",
        "\n",
        "        # bit_count : nums that we want to compress by removing bit_count lass mantissa bits\n",
        "        bit_count_to_nums = {}\n",
        "\n",
        "        for sign_exp_part, exp_num_list in sign_exp_to_nums.items():\n",
        "            bit_c_range = list(range(MIN_BITS_REMOVE, MAX_BITS_REMOVE + 1))\n",
        "\n",
        "            exp_num_list_comp = np.array([\n",
        "                FloatCompressionUtil.__zero_last_mantissa_bits(floats=exp_num_list, bits_to_zero=bit_c)\n",
        "                for bit_c in bit_c_range\n",
        "            ])\n",
        "\n",
        "            actual_mse = np.mean((exp_num_list - exp_num_list_comp) ** 2, axis=1)\n",
        "            mse_log_diff = np.fabs(np.log(actual_mse) - np.log(expected_mse))\n",
        "\n",
        "            bit_count_opt = bit_c_range[np.argmin(mse_log_diff)]\n",
        "\n",
        "            if bit_count_opt in bit_count_to_nums:\n",
        "                bit_count_to_nums[bit_count_opt].append(exp_num_list)\n",
        "            else:\n",
        "                bit_count_to_nums[bit_count_opt] = [exp_num_list]\n",
        "\n",
        "        for bit_count, nums in bit_count_to_nums.items():\n",
        "            bit_count_to_nums[bit_count] = np.concatenate(nums, dtype=np.float32)\n",
        "\n",
        "        return bit_count_to_nums\n",
        "\n",
        "    @staticmethod\n",
        "    def __compress_floats_with_mse(floats: np.ndarray[np.float32], expected_mse: float) -> bitarray:\n",
        "        bit_count_to_nums = FloatCompressionUtil.__part_floats_by_bit_count(floats, expected_mse=expected_mse)\n",
        "        result_bitarray = bitarray()\n",
        "\n",
        "        for bit_count, nums in bit_count_to_nums.items():\n",
        "            compressed_floats = FloatCompressionUtil.__compress_floats_same_bit_count(nums, bits_to_remove=bit_count)\n",
        "            chunk_size_bits = int2ba(len(compressed_floats), length=BITS_FOR_CHUNK_SIZE)\n",
        "\n",
        "            comp_floats_same_bit_count = bitarray()\n",
        "            comp_floats_same_bit_count.extend(chunk_size_bits)\n",
        "            comp_floats_same_bit_count.extend(compressed_floats)\n",
        "\n",
        "            result_bitarray.extend(comp_floats_same_bit_count)\n",
        "\n",
        "        return result_bitarray\n",
        "\n",
        "    @staticmethod\n",
        "    def compress_floats(floats: np.ndarray[np.float32], level: int) -> bitarray:\n",
        "        min_compress = FloatCompressionUtil.__compress_floats_same_bit_count(floats, bits_to_remove=MIN_BITS_REMOVE)\n",
        "        min_comp_recover_floats = FloatCompressionUtil.__decompress_floats_same_bit_count(min_compress)\n",
        "        min_log_mse = np.log(mse(floats, min_comp_recover_floats))\n",
        "\n",
        "        max_compress = FloatCompressionUtil.__compress_floats_same_bit_count(floats, bits_to_remove=MAX_BITS_REMOVE)\n",
        "        max_comp_recover_floats = FloatCompressionUtil.__decompress_floats_same_bit_count(max_compress)\n",
        "        max_log_mse = np.log(mse(floats, max_comp_recover_floats))\n",
        "\n",
        "        step = (max_log_mse - min_log_mse) / MAX_LEVEL\n",
        "        expected_log_mse = min_log_mse + step * level\n",
        "        expected_mse = np.exp(expected_log_mse)\n",
        "\n",
        "        compressed_bitarray = FloatCompressionUtil.__compress_floats_with_mse(floats, expected_mse=expected_mse)\n",
        "        return compressed_bitarray\n",
        "\n",
        "    @staticmethod\n",
        "    def decompress_floats(compressed_data: bitarray) -> np.ndarray[np.float32]:\n",
        "        index = 0\n",
        "        decompressed_floats = []\n",
        "\n",
        "        while index < len(compressed_data):\n",
        "            chunk_size = ba2int(compressed_data[index:index + BITS_FOR_CHUNK_SIZE])\n",
        "            index += BITS_FOR_CHUNK_SIZE\n",
        "\n",
        "            compressed_chunk = compressed_data[index:index + chunk_size]\n",
        "            index += chunk_size\n",
        "\n",
        "            floats_same_bit_count = FloatCompressionUtil.__decompress_floats_same_bit_count(compressed_chunk)\n",
        "\n",
        "            decompressed_floats.append(floats_same_bit_count)\n",
        "\n",
        "        return np.sort(np.concatenate(decompressed_floats))\n",
        "\n",
        "    @staticmethod\n",
        "    def save_floats_compressed(floats: np.ndarray[np.float32], level: int, file_name: str | Path) -> None:\n",
        "        bit_compressed_floats = FloatCompressionUtil.compress_floats(floats=floats, level=level)\n",
        "        BitArraySaver.save_bitarray(bit_compressed_floats, file_name=file_name)\n",
        "\n",
        "    @staticmethod\n",
        "    def load_floats_compressed(file_name: str | Path) -> np.ndarray[np.float32]:\n",
        "        bit_compressed_floats = BitArraySaver.load_bitarray(file_name=file_name)\n",
        "        return FloatCompressionUtil.decompress_floats(bit_compressed_floats)\n"
      ]
    },
    {
      "cell_type": "markdown",
      "id": "KSKVWPQNZeEn",
      "metadata": {
        "id": "KSKVWPQNZeEn"
      },
      "source": [
        "## 2. Exploration of compress impact on float distributions."
      ]
    },
    {
      "cell_type": "markdown",
      "id": "XdP3cXllrFWo",
      "metadata": {
        "id": "XdP3cXllrFWo"
      },
      "source": [
        " For each distribution, we have three code cells:\n",
        "\n",
        "1. **Sample floats** from a certain distribution.\n",
        "2. **Save floats to a file** using both the NumPy saver and our custom saver with compression, then **load the floats** back from the compressed file.\n",
        "3. **Report results of compression**:\n",
        "\n",
        "    - **Sizes of obtained files**.\n",
        "    - **MSE (Mean Squared Error)** between the original and decompressed samples.\n",
        "    \n",
        "    For each of the five statistical parameters:\n",
        "    \n",
        "    - **Mean**\n",
        "    - **Variance**\n",
        "    - **Standard deviation**\n",
        "    - **Skewness**\n",
        "    - **Kurtosis**\n",
        "    \n",
        "    We calculate:\n",
        "    \n",
        "    - Theoretical value of the statistical parameter.\n",
        "    - Statistical parameter of the original sample.\n",
        "    - Statistical parameter of the decompressed sample.\n",
        "    - Absolute difference of the statistical parameter.\n",
        "    - Relative difference of the statistical parameter.\n",
        "\n",
        "\n",
        "\n"
      ]
    },
    {
      "cell_type": "markdown",
      "id": "RcbRgGg5aWwH",
      "metadata": {
        "id": "RcbRgGg5aWwH"
      },
      "source": [
        "### Gaussian (normal) distribution\n"
      ]
    },
    {
      "cell_type": "code",
      "execution_count": 21,
      "id": "d19d8383-0743-43a7-b698-56b75336b03c",
      "metadata": {
        "id": "d19d8383-0743-43a7-b698-56b75336b03c"
      },
      "outputs": [],
      "source": [
        "gaussian_mean = 128.0\n",
        "gaussian_std = 1.0\n",
        "\n",
        "gaussian_var = gaussian_std ** 2\n",
        "gaussian_skew = 0.0\n",
        "gaussian_kurtosis = 3.0\n",
        "num_samples = 2000\n",
        "rnd_floats = np.random.normal(size=(num_samples,), loc=gaussian_mean, scale=gaussian_std).astype(np.float32)\n",
        "rnd_floats = np.sort(rnd_floats)"
      ]
    },
    {
      "cell_type": "code",
      "execution_count": 22,
      "id": "6e48e1f8-e765-43d3-98d6-d31fac6a3da2",
      "metadata": {
        "id": "6e48e1f8-e765-43d3-98d6-d31fac6a3da2"
      },
      "outputs": [],
      "source": [
        "compressed_file_path = \"gaussian_floats_compressed.bin\"\n",
        "numpy_file_path = \"gaussian_floats.bin\"\n",
        "compression_level = 100\n",
        "\n",
        "rnd_floats.tofile(numpy_file_path)\n",
        "FloatCompressionUtil.save_floats_compressed(rnd_floats, level=compression_level, file_name=compressed_file_path)\n",
        "rnd_floats_compressed_recovered = FloatCompressionUtil.load_floats_compressed(file_name=compressed_file_path)"
      ]
    },
    {
      "cell_type": "code",
      "execution_count": 25,
      "id": "e3215bbe-3b40-48a3-aa79-6e04f4f248f6",
      "metadata": {
        "colab": {
          "base_uri": "https://localhost:8080/"
        },
        "id": "e3215bbe-3b40-48a3-aa79-6e04f4f248f6",
        "outputId": "6c580639-7da4-4bc6-9c7a-c06ac1101dd6"
      },
      "outputs": [
        {
          "name": "stdout",
          "output_type": "stream",
          "text": [
            "8000 bytes - size of numpy binfile\n",
            "4006 bytes - size of compressed file\n",
            "1.9970044932601099\n",
            "\n",
            "MSE between original and decompressed samples: 0.18467581272125244\n",
            "\n",
            "Initial mean (theoretical): 128.0\n",
            "Mean of original sample: 128.01974487304688\n",
            "Mean of decompressed sample: 127.66300201416016\n",
            "Absolute mean difference: 0.35674285888671875\n",
            "Relative mean difference: 0.0027943849563598633\n",
            "\n",
            "Initial variance (theoretical): 1.0\n",
            "Variance of original sample: 0.9611599445343018\n",
            "Variance of decompressed sample: 0.8236809372901917\n",
            "Absolute variance difference: 0.1374790072441101\n",
            "Relative variance difference: 0.16690802574157715\n",
            "\n",
            "Initial standard deviation (theoretical): 1.0\n",
            "Standard deviation of original sample: 0.9803876280784607\n",
            "Standard deviation of decompressed sample: 0.9075686931610107\n",
            "Absolute standard deviation difference: 0.07281893491744995\n",
            "Relative standard deviation difference: 0.08023512363433838\n",
            "\n",
            "Initial skewness (theoretical): 0.0\n",
            "Skewness of original sample: -0.0781781127993158\n",
            "Skewness of decompressed sample: -0.07724033748401589\n",
            "Absolute skewness difference: 0.000937775315299913\n",
            "Relative skewness difference: 0.012141004892605167\n",
            "\n",
            "Initial kurtosis (theoretical, non-Fisher): 3.0\n",
            "Kurtosis of original sample: 3.0087273918966755\n",
            "Kurtosis of decompressed sample: 3.493357306618122\n",
            "Absolute kurtosis difference: 0.48462991472144656\n",
            "Relative kurtosis difference: 0.13872898538128953\n",
            "\n"
          ]
        }
      ],
      "source": [
        "print(f\"{os.path.getsize(numpy_file_path)} bytes - size of numpy binfile\")\n",
        "print(f\"{os.path.getsize(compressed_file_path)} bytes - size of compressed file\")\n",
        "print(f\"{os.path.getsize(numpy_file_path) / os.path.getsize(compressed_file_path)}\")\n",
        "print()\n",
        "\n",
        "print(f\"MSE between original and decompressed samples: {mse(rnd_floats, rnd_floats_compressed_recovered)}\\n\")\n",
        "\n",
        "print(f\"Initial mean (theoretical): {gaussian_mean}\")\n",
        "print(f\"Mean of original sample: {np.mean(rnd_floats)}\")\n",
        "print(f\"Mean of decompressed sample: {np.mean(rnd_floats_compressed_recovered)}\")\n",
        "print(f\"Absolute mean difference: {np.fabs(np.mean(rnd_floats) - np.mean(rnd_floats_compressed_recovered))}\")\n",
        "print(f\"Relative mean difference: {np.fabs(np.mean(rnd_floats) / np.mean(rnd_floats_compressed_recovered) - 1)}\\n\")\n",
        "\n",
        "print(f\"Initial variance (theoretical): {gaussian_var}\")\n",
        "print(f\"Variance of original sample: {np.var(rnd_floats)}\")\n",
        "print(f\"Variance of decompressed sample: {np.var(rnd_floats_compressed_recovered)}\")\n",
        "print(f\"Absolute variance difference: {np.fabs(np.var(rnd_floats) - np.var(rnd_floats_compressed_recovered))}\")\n",
        "print(f\"Relative variance difference: {np.fabs(np.var(rnd_floats) / np.var(rnd_floats_compressed_recovered) - 1)}\\n\")\n",
        "\n",
        "print(f\"Initial standard deviation (theoretical): {gaussian_std}\")\n",
        "print(f\"Standard deviation of original sample: {np.std(rnd_floats)}\")\n",
        "print(f\"Standard deviation of decompressed sample: {np.std(rnd_floats_compressed_recovered)}\")\n",
        "print(f\"Absolute standard deviation difference: {np.fabs(np.std(rnd_floats) - np.std(rnd_floats_compressed_recovered))}\")\n",
        "print(f\"Relative standard deviation difference: {np.fabs(np.std(rnd_floats) / np.std(rnd_floats_compressed_recovered) - 1)}\\n\")\n",
        "\n",
        "print(f\"Initial skewness (theoretical): {gaussian_skew}\")\n",
        "print(f\"Skewness of original sample: {skew(rnd_floats)}\")\n",
        "print(f\"Skewness of decompressed sample: {skew(rnd_floats_compressed_recovered)}\")\n",
        "print(f\"Absolute skewness difference: {np.fabs(skew(rnd_floats) - skew(rnd_floats_compressed_recovered))}\")\n",
        "print(f\"Relative skewness difference: {np.fabs(skew(rnd_floats) / skew(rnd_floats_compressed_recovered) - 1)}\\n\")\n",
        "\n",
        "print(f\"Initial kurtosis (theoretical, non-Fisher): {gaussian_kurtosis}\")\n",
        "print(f\"Kurtosis of original sample: {kurtosis(rnd_floats, fisher=False)}\")\n",
        "print(f\"Kurtosis of decompressed sample: {kurtosis(rnd_floats_compressed_recovered, fisher=False)}\")\n",
        "print(f\"Absolute kurtosis difference: {np.fabs(kurtosis(rnd_floats, fisher=False) - kurtosis(rnd_floats_compressed_recovered, fisher=False))}\")\n",
        "print(f\"Relative kurtosis difference: {np.fabs(kurtosis(rnd_floats, fisher=False) / kurtosis(rnd_floats_compressed_recovered, fisher=False) - 1)}\\n\")\n"
      ]
    },
    {
      "cell_type": "markdown",
      "id": "hsM74LBdaq1I",
      "metadata": {
        "id": "hsM74LBdaq1I"
      },
      "source": [
        "### Uniform distribution"
      ]
    },
    {
      "cell_type": "code",
      "execution_count": 26,
      "id": "51efd610-fd61-497b-8593-7a732b384ded",
      "metadata": {
        "id": "51efd610-fd61-497b-8593-7a732b384ded"
      },
      "outputs": [],
      "source": [
        "uniform_low = -1.0\n",
        "uniform_high = 1.0\n",
        "\n",
        "uniform_var = ((uniform_high - uniform_low) ** 2) / 12  # Variance of uniform distribution\n",
        "uniform_skew = 0.0\n",
        "uniform_kurtosis = 1.8\n",
        "num_samples = 2000\n",
        "\n",
        "rnd_floats = np.random.uniform(low=uniform_low, high=uniform_high, size=(num_samples,)).astype(np.float32)\n",
        "rnd_floats = np.sort(rnd_floats)"
      ]
    },
    {
      "cell_type": "code",
      "execution_count": 27,
      "id": "e18792ba-a52b-4c67-8831-7024760f6451",
      "metadata": {
        "id": "e18792ba-a52b-4c67-8831-7024760f6451",
        "scrolled": true
      },
      "outputs": [],
      "source": [
        "compressed_file_path = \"uniform_floats_compressed.bin\"\n",
        "numpy_file_path = \"uniform_floats.bin\"\n",
        "compression_level = 100\n",
        "\n",
        "rnd_floats.tofile(numpy_file_path)\n",
        "FloatCompressionUtil.save_floats_compressed(rnd_floats, level=compression_level, file_name=compressed_file_path)\n",
        "rnd_floats_compressed_recovered = FloatCompressionUtil.load_floats_compressed(file_name=compressed_file_path)"
      ]
    },
    {
      "cell_type": "code",
      "execution_count": 28,
      "id": "f6dd29a8-e8a7-47b7-adb7-2b1e0b948fc0",
      "metadata": {
        "colab": {
          "base_uri": "https://localhost:8080/"
        },
        "id": "f6dd29a8-e8a7-47b7-adb7-2b1e0b948fc0",
        "outputId": "59066d3e-d6de-4c8a-d826-95a53eba2fb5"
      },
      "outputs": [
        {
          "name": "stdout",
          "output_type": "stream",
          "text": [
            "8000 bytes - size of numpy binfile\n",
            "4021 bytes - size of compressed file\n",
            "1.9895548371051976\n",
            "\n",
            "MSE between original and decompressed samples: 2.923138936239411e-06\n",
            "\n",
            "Expected mean (theoretical): 0.0\n",
            "Mean of original sample: 0.008484466932713985\n",
            "Mean of decompressed sample: 0.008415482006967068\n",
            "Absolute mean difference: 6.898492574691772e-05\n",
            "Relative mean difference: 0.008197426795959473\n",
            "\n",
            "Expected variance (theoretical): 0.3333333333333333\n",
            "Variance of original sample: 0.33383601903915405\n",
            "Variance of decompressed sample: 0.3321593701839447\n",
            "Absolute variance difference: 0.0016766488552093506\n",
            "Relative variance difference: 0.0050476789474487305\n",
            "\n",
            "Expected standard deviation (theoretical): 0.5773502691896257\n",
            "Standard deviation of original sample: 0.5777854323387146\n",
            "Standard deviation of decompressed sample: 0.576332688331604\n",
            "Absolute standard deviation difference: 0.0014527440071105957\n",
            "Relative standard deviation difference: 0.0025206804275512695\n",
            "\n",
            "Expected skewness (theoretical): 0.0\n",
            "Skewness of original sample: -0.03515712728522819\n",
            "Skewness of decompressed sample: -0.03529437150316239\n",
            "Absolute skewness difference: 0.0001372442179342001\n",
            "Relative skewness difference: 0.003888558205998982\n",
            "\n",
            "Expected kurtosis (theoretical, non-Fisher): 1.8\n",
            "Kurtosis of original sample: 1.8060430258866944\n",
            "Kurtosis of decompressed sample: 1.807161929684188\n",
            "Absolute kurtosis difference: 0.0011189037974936866\n",
            "Relative kurtosis difference: 0.0006191497170866533\n",
            "\n"
          ]
        }
      ],
      "source": [
        "print(f\"{os.path.getsize(numpy_file_path)} bytes - size of numpy binfile\")\n",
        "print(f\"{os.path.getsize(compressed_file_path)} bytes - size of compressed file\")\n",
        "print(f\"{os.path.getsize(numpy_file_path) / os.path.getsize(compressed_file_path)}\")\n",
        "print()\n",
        "\n",
        "print(f\"MSE between original and decompressed samples: {mse(rnd_floats, rnd_floats_compressed_recovered)}\\n\")\n",
        "\n",
        "print(f\"Expected mean (theoretical): {(uniform_high + uniform_low) / 2}\")\n",
        "print(f\"Mean of original sample: {np.mean(rnd_floats)}\")\n",
        "print(f\"Mean of decompressed sample: {np.mean(rnd_floats_compressed_recovered)}\")\n",
        "print(f\"Absolute mean difference: {np.fabs(np.mean(rnd_floats) - np.mean(rnd_floats_compressed_recovered))}\")\n",
        "print(f\"Relative mean difference: {np.fabs(np.mean(rnd_floats) / np.mean(rnd_floats_compressed_recovered) - 1)}\\n\")\n",
        "\n",
        "print(f\"Expected variance (theoretical): {uniform_var}\")\n",
        "print(f\"Variance of original sample: {np.var(rnd_floats)}\")\n",
        "print(f\"Variance of decompressed sample: {np.var(rnd_floats_compressed_recovered)}\")\n",
        "print(f\"Absolute variance difference: {np.fabs(np.var(rnd_floats) - np.var(rnd_floats_compressed_recovered))}\")\n",
        "print(f\"Relative variance difference: {np.fabs(np.var(rnd_floats) / np.var(rnd_floats_compressed_recovered) - 1)}\\n\")\n",
        "\n",
        "print(f\"Expected standard deviation (theoretical): {np.sqrt(uniform_var)}\")\n",
        "print(f\"Standard deviation of original sample: {np.std(rnd_floats)}\")\n",
        "print(f\"Standard deviation of decompressed sample: {np.std(rnd_floats_compressed_recovered)}\")\n",
        "print(f\"Absolute standard deviation difference: {np.fabs(np.std(rnd_floats) - np.std(rnd_floats_compressed_recovered))}\")\n",
        "print(f\"Relative standard deviation difference: {np.fabs(np.std(rnd_floats) / np.std(rnd_floats_compressed_recovered) - 1)}\\n\")\n",
        "\n",
        "print(f\"Expected skewness (theoretical): {uniform_skew}\")\n",
        "print(f\"Skewness of original sample: {skew(rnd_floats)}\")\n",
        "print(f\"Skewness of decompressed sample: {skew(rnd_floats_compressed_recovered)}\")\n",
        "print(f\"Absolute skewness difference: {np.fabs(skew(rnd_floats) - skew(rnd_floats_compressed_recovered))}\")\n",
        "print(f\"Relative skewness difference: {np.fabs(skew(rnd_floats) / skew(rnd_floats_compressed_recovered) - 1)}\\n\")\n",
        "\n",
        "print(f\"Expected kurtosis (theoretical, non-Fisher): {uniform_kurtosis}\")\n",
        "print(f\"Kurtosis of original sample: {kurtosis(rnd_floats, fisher=False)}\")\n",
        "print(f\"Kurtosis of decompressed sample: {kurtosis(rnd_floats_compressed_recovered, fisher=False)}\")\n",
        "print(f\"Absolute kurtosis difference: {np.fabs(kurtosis(rnd_floats, fisher=False) - kurtosis(rnd_floats_compressed_recovered, fisher=False))}\")\n",
        "print(f\"Relative kurtosis difference: {np.fabs(kurtosis(rnd_floats, fisher=False) / kurtosis(rnd_floats_compressed_recovered, fisher=False) - 1)}\\n\")\n"
      ]
    },
    {
      "cell_type": "markdown",
      "id": "38bljZr8a2tv",
      "metadata": {
        "id": "38bljZr8a2tv"
      },
      "source": [
        "### Exponential distribution"
      ]
    },
    {
      "cell_type": "code",
      "execution_count": 29,
      "id": "74eaefee-ee6e-4982-a53b-51889352fc4c",
      "metadata": {
        "id": "74eaefee-ee6e-4982-a53b-51889352fc4c"
      },
      "outputs": [],
      "source": [
        "exponential_lambda = 100.0\n",
        "exponential_mean = 1 / exponential_lambda\n",
        "exponential_var = 1 / (exponential_lambda ** 2)\n",
        "exponential_skew = 2.0\n",
        "exponential_kurtosis = 9.0\n",
        "num_samples = 2000\n",
        "\n",
        "rnd_floats = np.random.exponential(scale=exponential_mean, size=(num_samples,)).astype(np.float32)\n",
        "rnd_floats = np.sort(rnd_floats)"
      ]
    },
    {
      "cell_type": "code",
      "execution_count": 30,
      "id": "6e61c86e-4fdf-4f3e-a423-4e8b26d8e207",
      "metadata": {
        "id": "6e61c86e-4fdf-4f3e-a423-4e8b26d8e207"
      },
      "outputs": [],
      "source": [
        "compressed_file_path = \"exponential_floats_compressed.bin\"\n",
        "numpy_file_path = \"exponential_floats.bin\"\n",
        "compression_level = 100\n",
        "\n",
        "rnd_floats.tofile(numpy_file_path)\n",
        "FloatCompressionUtil.save_floats_compressed(rnd_floats, level=compression_level, file_name=compressed_file_path)\n",
        "rnd_floats_compressed_recovered = FloatCompressionUtil.load_floats_compressed(file_name=compressed_file_path)"
      ]
    },
    {
      "cell_type": "code",
      "execution_count": 31,
      "id": "580508b5-33e4-460b-a040-6a7747e09331",
      "metadata": {
        "colab": {
          "base_uri": "https://localhost:8080/"
        },
        "id": "580508b5-33e4-460b-a040-6a7747e09331",
        "outputId": "1a683a52-382a-4520-b5db-ec4167fd9ec3"
      },
      "outputs": [
        {
          "name": "stdout",
          "output_type": "stream",
          "text": [
            "8000 bytes - size of numpy binfile\n",
            "4030 bytes - size of compressed file\n",
            "1.9851116625310175\n",
            "\n",
            "Mean Squared Error (MSE) between original and decompressed samples: 1.4797921776832368e-09\n",
            "\n",
            "Expected mean (theoretical): 0.01\n",
            "Mean of original sample: 0.010111330077052116\n",
            "Mean of decompressed sample: 0.0100855166092515\n",
            "Absolute mean difference: 2.5813467800617218e-05\n",
            "Relative mean difference: 0.0025594234466552734\n",
            "\n",
            "Expected variance (theoretical): 0.0001\n",
            "Variance of original sample: 0.00011217895371373743\n",
            "Variance of decompressed sample: 0.00011179583088960499\n",
            "Absolute variance difference: 3.831228241324425e-07\n",
            "Relative variance difference: 0.0034270286560058594\n",
            "\n",
            "Expected standard deviation (theoretical): 0.01\n",
            "Standard deviation of original sample: 0.010591456666588783\n",
            "Standard deviation of decompressed sample: 0.010573354549705982\n",
            "Absolute standard deviation difference: 1.8102116882801056e-05\n",
            "Relative standard deviation difference: 0.0017120838165283203\n",
            "\n",
            "Expected skewness (theoretical): 2.0\n",
            "Skewness of original sample: 2.176311367220696\n",
            "Skewness of decompressed sample: 2.1820465251769816\n",
            "Absolute skewness difference: 0.0057351579562854305\n",
            "Relative skewness difference: 0.0026283389882442165\n",
            "\n",
            "Expected kurtosis (theoretical, non-Fisher): 9.0\n",
            "Kurtosis of original sample: 9.548532277305982\n",
            "Kurtosis of decompressed sample: 9.588664847827678\n",
            "Absolute kurtosis difference: 0.0401325705216955\n",
            "Relative kurtosis difference: 0.0041854180074702985\n",
            "\n"
          ]
        }
      ],
      "source": [
        "print(f\"{os.path.getsize(numpy_file_path)} bytes - size of numpy binfile\")\n",
        "print(f\"{os.path.getsize(compressed_file_path)} bytes - size of compressed file\")\n",
        "print(f\"{os.path.getsize(numpy_file_path) / os.path.getsize(compressed_file_path)}\")\n",
        "print()\n",
        "\n",
        "print(f\"Mean Squared Error (MSE) between original and decompressed samples: {mse(rnd_floats, rnd_floats_compressed_recovered)}\\n\")\n",
        "\n",
        "print(f\"Expected mean (theoretical): {exponential_mean}\")\n",
        "print(f\"Mean of original sample: {np.mean(rnd_floats)}\")\n",
        "print(f\"Mean of decompressed sample: {np.mean(rnd_floats_compressed_recovered)}\")\n",
        "print(f\"Absolute mean difference: {np.fabs(np.mean(rnd_floats) - np.mean(rnd_floats_compressed_recovered))}\")\n",
        "print(f\"Relative mean difference: {np.fabs(np.mean(rnd_floats) / np.mean(rnd_floats_compressed_recovered) - 1)}\\n\")\n",
        "\n",
        "print(f\"Expected variance (theoretical): {exponential_var}\")\n",
        "print(f\"Variance of original sample: {np.var(rnd_floats)}\")\n",
        "print(f\"Variance of decompressed sample: {np.var(rnd_floats_compressed_recovered)}\")\n",
        "print(f\"Absolute variance difference: {np.fabs(np.var(rnd_floats) - np.var(rnd_floats_compressed_recovered))}\")\n",
        "print(f\"Relative variance difference: {np.fabs(np.var(rnd_floats) / np.var(rnd_floats_compressed_recovered) - 1)}\\n\")\n",
        "\n",
        "print(f\"Expected standard deviation (theoretical): {np.sqrt(exponential_var)}\")\n",
        "print(f\"Standard deviation of original sample: {np.std(rnd_floats)}\")\n",
        "print(f\"Standard deviation of decompressed sample: {np.std(rnd_floats_compressed_recovered)}\")\n",
        "print(f\"Absolute standard deviation difference: {np.fabs(np.std(rnd_floats) - np.std(rnd_floats_compressed_recovered))}\")\n",
        "print(f\"Relative standard deviation difference: {np.fabs(np.std(rnd_floats) / np.std(rnd_floats_compressed_recovered) - 1)}\\n\")\n",
        "\n",
        "print(f\"Expected skewness (theoretical): {exponential_skew}\")\n",
        "print(f\"Skewness of original sample: {skew(rnd_floats)}\")\n",
        "print(f\"Skewness of decompressed sample: {skew(rnd_floats_compressed_recovered)}\")\n",
        "print(f\"Absolute skewness difference: {np.fabs(skew(rnd_floats) - skew(rnd_floats_compressed_recovered))}\")\n",
        "print(f\"Relative skewness difference: {np.fabs(skew(rnd_floats) / skew(rnd_floats_compressed_recovered) - 1)}\\n\")\n",
        "\n",
        "print(f\"Expected kurtosis (theoretical, non-Fisher): {exponential_kurtosis}\")\n",
        "print(f\"Kurtosis of original sample: {kurtosis(rnd_floats, fisher=False)}\")\n",
        "print(f\"Kurtosis of decompressed sample: {kurtosis(rnd_floats_compressed_recovered, fisher=False)}\")\n",
        "print(f\"Absolute kurtosis difference: {np.fabs(kurtosis(rnd_floats, fisher=False) - kurtosis(rnd_floats_compressed_recovered, fisher=False))}\")\n",
        "print(f\"Relative kurtosis difference: {np.fabs(kurtosis(rnd_floats, fisher=False) / kurtosis(rnd_floats_compressed_recovered, fisher=False) - 1)}\\n\")\n"
      ]
    },
    {
      "cell_type": "markdown",
      "id": "VQSTAHG7bWNp",
      "metadata": {
        "id": "VQSTAHG7bWNp"
      },
      "source": [
        "## 3. Visualisation"
      ]
    },
    {
      "cell_type": "markdown",
      "id": "LqCwzpSwbiPt",
      "metadata": {
        "id": "LqCwzpSwbiPt"
      },
      "source": [
        "### Plot for memory usage for different levels of compression"
      ]
    },
    {
      "cell_type": "markdown",
      "id": "c35c754a-1ada-41c3-aa82-4dfd8409456f",
      "metadata": {
        "id": "c35c754a-1ada-41c3-aa82-4dfd8409456f"
      },
      "source": [
        "We are interested in memory usage of saving floats that depend on the level of compression. I have seen only that stepped function because memory usage is mostly dependent on the number of bits removed from large groups of numbers with large exponents."
      ]
    },
    {
      "cell_type": "code",
      "execution_count": 36,
      "id": "fa6c6627-bd12-43e0-96ab-0c9de910f7e4",
      "metadata": {
        "id": "fa6c6627-bd12-43e0-96ab-0c9de910f7e4"
      },
      "outputs": [],
      "source": [
        "def plot_floats_memory_usage(floats: np.ndarray[np.float32]) -> None:\n",
        "    memory_list = []\n",
        "    for level in range(0, MAX_LEVEL + 1):\n",
        "        comr_bitarray = FloatCompressionUtil.compress_floats(floats, level=level)\n",
        "        memory_list.append(np.ceil(len(comr_bitarray) / BITS_PER_BYTE))\n",
        "\n",
        "    compression_levels = list(range(0, MAX_LEVEL + 1))\n",
        "\n",
        "    plt.figure(figsize=(8, 5))\n",
        "    plt.plot(compression_levels, memory_list, marker='o', linestyle='-', markersize=1, color='b', label='Compressed File Size')\n",
        "    plt.xlabel(\"Compression Level\")\n",
        "    plt.ylabel(\"File Size (Bytes)\")\n",
        "    plt.title(\"Compressed File Size vs Compression Level\")\n",
        "    plt.legend()\n",
        "    plt.grid()\n",
        "    plt.show()"
      ]
    },
    {
      "cell_type": "markdown",
      "id": "cda5b254-2eda-4d81-a35d-164aa82c26e5",
      "metadata": {
        "id": "cda5b254-2eda-4d81-a35d-164aa82c26e5"
      },
      "source": [
        "Also we are interested in changes of distribution appearance due to compression. In the worst case we can zero last 16 bits so we have $23 - 16 = 7$ mantissa bits correctly obtained. This is an $2^{-7} = 0.0078125$ error relative to the number. If we sample small numbers we won't see serious deviations. However, if the sampled number is large we will try to round up it to the maximum possible number that has the last $16$ bits zero and is less than the sampled number which can cause essential error. There are $2^{7} = 128$ possible numbers we can round up to for any exponent.\n",
        "\n",
        "1. Suppose we sample from a Gaussian distribution around a $128.0$, with a standard deviation of $1$. Floats greater than $128.0$ have a higher exponent than floats less than $128.0$. So after $128.0$, step between numbers that has the last $16$ bits zero is two times higher. We can see that on plot of distribution with $mean=128.0,\\ std=1,\\ level=100$.\n",
        "\n",
        "2. Suppose we sample from a Gaussian distribution around a large number, for example, $1024$, with a standard deviation of $1$. So most of the sampled numbers will be in range $[1024-3, 1024+3]$, which can be rounded up to $1020$ or $1024$. As a result, the distribution will have two tall sticks in $1020$ and $1024$ and some mush smaller values we are not interested in."
      ]
    },
    {
      "cell_type": "code",
      "execution_count": 37,
      "id": "1b375c87-5af8-458c-a119-7b9960395e9e",
      "metadata": {
        "colab": {
          "base_uri": "https://localhost:8080/",
          "height": 487
        },
        "id": "1b375c87-5af8-458c-a119-7b9960395e9e",
        "outputId": "5a4e17aa-c948-4dcb-ef16-1eaaa5e67f80"
      },
      "outputs": [
        {
          "data": {
            "image/png": "[encoded data removed]",
            "text/plain": [
              "<Figure size 800x500 with 1 Axes>"
            ]
          },
          "metadata": {},
          "output_type": "display_data"
        }
      ],
      "source": [
        "plot_floats_memory_usage(rnd_floats)"
      ]
    },
    {
      "cell_type": "markdown",
      "id": "97x1Glt-cfbT",
      "metadata": {
        "id": "97x1Glt-cfbT"
      },
      "source": [
        "### Plot for floats distribution before and after compression."
      ]
    },
    {
      "cell_type": "code",
      "execution_count": 19,
      "id": "8e09595a-1684-487e-b7a1-86adb53cf2f9",
      "metadata": {
        "id": "8e09595a-1684-487e-b7a1-86adb53cf2f9"
      },
      "outputs": [],
      "source": [
        "def plot_distributions(floats: np.ndarray[np.float32], floats_compressed_recovered: np.ndarray[np.float32]) -> None:\n",
        "    n = len(floats)\n",
        "    k = int(np.ceil(np.log2(n) + 1))\n",
        "    bins = k\n",
        "\n",
        "    plt.figure(figsize=(10, 6))\n",
        "    plt.hist(floats, bins=bins, edgecolor='black', alpha=0.5, label=\"Sampled numbers\")\n",
        "    plt.hist(floats_compressed_recovered, bins=bins, edgecolor='black', alpha=0.5, label=\"Recovered numbers\")\n",
        "    plt.title('Distribution')\n",
        "    plt.xlabel('Float Values')\n",
        "    plt.ylabel('Frequency')\n",
        "    plt.grid(True)\n",
        "    plt.legend()\n",
        "    plt.show()"
      ]
    },
    {
      "cell_type": "code",
      "execution_count": 24,
      "id": "6a48aac1-b30e-48de-98d8-9d4bb8b6fb4f",
      "metadata": {
        "colab": {
          "base_uri": "https://localhost:8080/",
          "height": 564
        },
        "id": "6a48aac1-b30e-48de-98d8-9d4bb8b6fb4f",
        "outputId": "ba36766b-87e0-4010-9ef8-e3b1c320e345"
      },
      "outputs": [
        {
          "data": {
            "image/png": "[encoded data removed]",
            "text/plain": [
              "<Figure size 1000x600 with 1 Axes>"
            ]
          },
          "metadata": {},
          "output_type": "display_data"
        }
      ],
      "source": [
        "plot_distributions(rnd_floats, rnd_floats_compressed_recovered)"
      ]
    },
    {
      "cell_type": "markdown",
      "id": "G-MxfpSnc-go",
      "metadata": {
        "id": "G-MxfpSnc-go"
      },
      "source": [
        "## 4.Conclusion"
      ]
    },
    {
      "cell_type": "markdown",
      "id": "10bf8786-e117-4bd2-8e6e-b88b72ddc35a",
      "metadata": {
        "id": "10bf8786-e117-4bd2-8e6e-b88b72ddc35a"
      },
      "source": [
        "I explored a float compression technique based on removing the least significant bits. This is a simple method, but it has limitations. We can only use it when the relative error of a number (from $2^{-7}$ to $2^{-15}$) is not too much for us. I created an algorithm where we remove the same number of bits from numbers with the same sign and exponent. However, the curve of memory usage vs level compression was stepped.\n",
        "\n",
        "I have several ideas to improve my current algorithm:\n",
        "\n",
        "1. I believe developing an algorithm where we can remove n bits from one subset of numbers (even random subset) and n+1 bits from the others could solve this problem but it would be more time consuming.\n",
        "\n",
        "2. We can also divide large groups with the same sign and exponent into smaller ones, allowing them to have a different number of bits removed.\n",
        "\n",
        "3. When I recovered floats I added zero bits to the end, but in my opinion, it would be more logical to add 10..0 instead. This minor improvement can make MSE two times less.\n",
        "\n",
        "I didn't have enough time to explore that ideas .\n",
        "\n"
      ]
    },
    {
      "cell_type": "code",
      "execution_count": null,
      "id": "27082820-3186-4fff-8071-d41e587f3c2d",
      "metadata": {
        "id": "27082820-3186-4fff-8071-d41e587f3c2d"
      },
      "outputs": [],
      "source": []
    }
  ],
  "metadata": {
    "colab": {
      "provenance": []
    },
    "kernelspec": {
      "display_name": "Python 3 (ipykernel)",
      "language": "python",
      "name": "python3"
    },
    "language_info": {
      "codemirror_mode": {
        "name": "ipython",
        "version": 3
      },
      "file_extension": ".py",
      "mimetype": "text/x-python",
      "name": "python",
      "nbconvert_exporter": "python",
      "pygments_lexer": "ipython3",
      "version": "3.11.4"
    }
  },
  "nbformat": 4,
  "nbformat_minor": 5
}
